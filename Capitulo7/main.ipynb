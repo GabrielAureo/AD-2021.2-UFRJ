{
 "cells": [
  {
   "cell_type": "code",
   "execution_count": 45,
   "metadata": {},
   "outputs": [
    {
     "name": "stdout",
     "output_type": "stream",
     "text": [
      "The autoreload extension is already loaded. To reload it, use:\n",
      "  %reload_ext autoreload\n"
     ]
    }
   ],
   "source": [
    "%load_ext autoreload\n",
    "\n",
    "%autoreload 2\n"
   ]
  },
  {
   "cell_type": "code",
   "execution_count": 46,
   "metadata": {},
   "outputs": [],
   "source": [
    "import md1k\n",
    "import analytical as anal\n",
    "import pandas as pd\n",
    "import numpy as np\n",
    "pd.set_option('display.max_rows', 999)"
   ]
  },
  {
   "cell_type": "code",
   "execution_count": 47,
   "metadata": {},
   "outputs": [],
   "source": [
    "sim = md1k.md1k_queue(1,1,3, max_time = 1000, max_events= 1000)"
   ]
  },
  {
   "cell_type": "code",
   "execution_count": 48,
   "metadata": {},
   "outputs": [],
   "source": [
    "def metrics(sim_data, N, lamda, mu):\n",
    "    simulated = {\n",
    "        'customers' : md1k.customers_mean(sim_data, lamda = lamda, mu = mu),\n",
    "        'wait_time' : md1k.mean_wait(sim_data, lamda = lamda, mu = mu)\n",
    "    }\n",
    "    analytical = {\n",
    "        'customers' : anal.mean_customers(N, lamda, mu),\n",
    "        'wait_time' : anal.mean_wait(N, lamda, mu)\n",
    "    }\n",
    "    print(f\"\"\"\n",
    "Fila M/D/1/{N} \n",
    "    lambda = {lamda}\n",
    "    D = {1/mu}\n",
    "    Média de Consumidores\n",
    "        Resultado simulado:\n",
    "            Média: {simulated['customers']['mean']}\n",
    "            Intervalo de Confiança: {simulated['customers']['ci']}\n",
    "        Resultado Analítico: {analytical['customers']}\n",
    "    Tempo Médio\n",
    "        Resultado simulado:\n",
    "            Média : {simulated['wait_time']['mean']}\n",
    "            Intervalo de Confiança: {simulated['wait_time']['ci']}\n",
    "        Resultado Analítico: {analytical['wait_time']}\n",
    "\"\"\")"
   ]
  },
  {
   "cell_type": "code",
   "execution_count": 50,
   "metadata": {},
   "outputs": [
    {
     "name": "stdout",
     "output_type": "stream",
     "text": [
      "\n",
      "Fila M/D/1/3 \n",
      "    lambda = 3\n",
      "    D = 1.0\n",
      "    Média de Consumidores\n",
      "        Resultado simulado:\n",
      "            Média: 2.659923874648919\n",
      "            Intervalo de Confiança: (2.6479074696639384, 2.6719402796339)\n",
      "        Resultado Analítico: 2.6465289952952404\n",
      "    Tempo Médio\n",
      "        Resultado simulado:\n",
      "            Média : 2.6505194440305435\n",
      "            Intervalo de Confiança: (2.638824027424767, 2.66221486063632)\n",
      "        Resultado Analítico: 1.6490996475105941\n",
      "\n"
     ]
    }
   ],
   "source": [
    "lamda = 3\n",
    "mu = 1\n",
    "N = 3\n",
    "sim = md1k.md1k_simulation(lamda,mu, N)\n",
    "metrics(sim, N, lamda, mu)\n"
   ]
  },
  {
   "cell_type": "code",
   "execution_count": 51,
   "metadata": {},
   "outputs": [
    {
     "name": "stdout",
     "output_type": "stream",
     "text": [
      "\n",
      "Fila M/D/1/3 \n",
      "    lambda = 3\n",
      "    D = 0.1\n",
      "    Média de Consumidores\n",
      "        Resultado simulado:\n",
      "            Média: 0.352851801837804\n",
      "            Intervalo de Confiança: (0.34228688183065153, 0.3634167218449565)\n",
      "        Resultado Analítico: 0.3567523882879877\n",
      "    Tempo Médio\n",
      "        Resultado simulado:\n",
      "            Média : 0.11905833832406162\n",
      "            Intervalo de Confiança: (0.11767229996588659, 0.12044437668223666)\n",
      "        Resultado Analítico: 0.01958768737530725\n",
      "\n"
     ]
    }
   ],
   "source": [
    "lamda = 3\n",
    "mu = 10\n",
    "sim = md1k.md1k_simulation(lamda,mu,3)\n",
    "metrics(sim, N = N, lamda = lamda, mu = mu)"
   ]
  },
  {
   "cell_type": "code",
   "execution_count": null,
   "metadata": {},
   "outputs": [],
   "source": []
  }
 ],
 "metadata": {
  "interpreter": {
   "hash": "2db524e06e9f5f4ffedc911c917cb75e12dbc923643829bf417064a77eb14d37"
  },
  "kernelspec": {
   "display_name": "Python 3.8.3 64-bit (system)",
   "language": "python",
   "name": "python3"
  },
  "language_info": {
   "codemirror_mode": {
    "name": "ipython",
    "version": 3
   },
   "file_extension": ".py",
   "mimetype": "text/x-python",
   "name": "python",
   "nbconvert_exporter": "python",
   "pygments_lexer": "ipython3",
   "version": "3.8.3"
  },
  "orig_nbformat": 4
 },
 "nbformat": 4,
 "nbformat_minor": 2
}
