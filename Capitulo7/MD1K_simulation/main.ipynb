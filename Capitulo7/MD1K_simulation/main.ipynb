{
 "cells": [
  {
   "cell_type": "code",
   "execution_count": 2,
   "metadata": {},
   "outputs": [],
   "source": [
    "%load_ext autoreload\n",
    "\n",
    "%autoreload 2\n"
   ]
  },
  {
   "cell_type": "code",
   "execution_count": 11,
   "metadata": {},
   "outputs": [],
   "source": [
    "import md1k\n",
    "import analytical as anal\n",
    "import pandas as pd\n",
    "import numpy as np\n",
    "from numpy.linalg import matrix_power\n",
    "pd.set_option('display.max_rows', 999)"
   ]
  },
  {
   "cell_type": "code",
   "execution_count": 37,
   "metadata": {},
   "outputs": [],
   "source": [
    "def metrics(sim_data, N, lamda, mu):\n",
    "    simulated = {\n",
    "        'customers' : md1k.customers_mean(sim_data),\n",
    "        'wait_time' : md1k.mean_wait(sim_data),\n",
    "        'utilization' : md1k.utilization(sim_data)\n",
    "    }\n",
    "    analytical = {\n",
    "        'customers' : anal.mean_customers(N, lamda, mu),\n",
    "        'wait_time' : anal.mean_wait(N, lamda, mu)\n",
    "    }\n",
    "    print(f\"\"\"\n",
    "Fila M/D/1/{N} \n",
    "    lambda = {lamda}\n",
    "    D = {1/mu}\n",
    "    Média de Consumidores\n",
    "        Resultado simulado:\n",
    "            Média: {simulated['customers']['mean']}\n",
    "            Intervalo de Confiança: {simulated['customers']['ci']}\n",
    "        Resultado Analítico: {analytical['customers']}\n",
    "    Tempo Médio\n",
    "        Resultado simulado:\n",
    "            Média : {simulated['wait_time']['mean']}\n",
    "            Intervalo de Confiança: {simulated['wait_time']['ci']}\n",
    "        Resultado Analítico: {analytical['wait_time']}\n",
    "    Utilização:\n",
    "        Resultado Simulado:\n",
    "            Média : {simulated['utilization']['mean']}\n",
    "            Intervalo de Confiança: {simulated['utilization']['ci']}\n",
    "\"\"\")"
   ]
  },
  {
   "cell_type": "code",
   "execution_count": 44,
   "metadata": {},
   "outputs": [
    {
     "name": "stdout",
     "output_type": "stream",
     "text": [
      "\n",
      "Fila M/D/1/3 \n",
      "    lambda = 3\n",
      "    D = 1.0\n",
      "    Média de Consumidores\n",
      "        Resultado simulado:\n",
      "            Média: 2.6429434787849733\n",
      "            Intervalo de Confiança: (2.6266984147478976, 2.659188542822049)\n",
      "        Resultado Analítico: 2.6465289952952404\n",
      "    Tempo Médio\n",
      "        Resultado simulado:\n",
      "            Média : 2.6332141943078073\n",
      "            Intervalo de Confiança: (2.6195154432333436, 2.646912945382271)\n",
      "        Resultado Analítico: 1.6490996475105941\n",
      "    Utilização:\n",
      "        Resultado Simulado:\n",
      "            Média : 0.4990563587630814\n",
      "            Intervalo de Confiança: (0.49860421347977507, 0.49950850404638775)\n",
      "\n"
     ]
    }
   ],
   "source": [
    "lamda = 3\n",
    "mu = 1\n",
    "N = 3\n",
    "sim = md1k.md1k_simulation(lamda,mu, N)\n",
    "metrics(sim, N, lamda, mu)\n"
   ]
  },
  {
   "cell_type": "code",
   "execution_count": 45,
   "metadata": {},
   "outputs": [
    {
     "data": {
      "text/plain": [
       "array([[0.04978707, 0.14936121, 0.80085173],\n",
       "       [0.04978707, 0.14936121, 0.80085173],\n",
       "       [0.        , 0.04978707, 0.95021293]])"
      ]
     },
     "execution_count": 45,
     "metadata": {},
     "output_type": "execute_result"
    }
   ],
   "source": [
    "embedded_chain = anal.embedded_chain(N, lamda, mu)\n",
    "embedded_chain"
   ]
  },
  {
   "cell_type": "code",
   "execution_count": 46,
   "metadata": {},
   "outputs": [
    {
     "data": {
      "text/plain": [
       "array([[0.00291399, 0.05561505, 0.94147096],\n",
       "       [0.00291399, 0.05561505, 0.94147096],\n",
       "       [0.00291399, 0.05561505, 0.94147096]])"
      ]
     },
     "execution_count": 46,
     "metadata": {},
     "output_type": "execute_result"
    }
   ],
   "source": [
    "stationary_distribution = matrix_power(embedded_chain, 1000)\n",
    "stationary_distribution"
   ]
  },
  {
   "cell_type": "code",
   "execution_count": 47,
   "metadata": {},
   "outputs": [
    {
     "name": "stdout",
     "output_type": "stream",
     "text": [
      "\n",
      "Fila M/D/1/3 \n",
      "    lambda = 50\n",
      "    D = 0.1\n",
      "    Média de Consumidores\n",
      "        Resultado simulado:\n",
      "            Média: 2.805978346183268\n",
      "            Intervalo de Confiança: (2.7915299064997297, 2.820426785866806)\n",
      "        Resultado Analítico: 2.7985979237654686\n",
      "    Tempo Médio\n",
      "        Resultado simulado:\n",
      "            Média : 0.2782675867945711\n",
      "            Intervalo de Confiança: (0.2771960607505081, 0.27933911283863405)\n",
      "        Resultado Analítico: 0.17986242209401493\n",
      "    Utilização:\n",
      "        Resultado Simulado:\n",
      "            Média : 0.049804731872165144\n",
      "            Intervalo de Confiança: (0.04976668098924459, 0.0498427827550857)\n",
      "\n"
     ]
    }
   ],
   "source": [
    "lamda = 50\n",
    "mu = 10\n",
    "sim = md1k.md1k_simulation(lamda,mu,3)\n",
    "metrics(sim, N = N, lamda = lamda, mu = mu)"
   ]
  },
  {
   "cell_type": "code",
   "execution_count": 48,
   "metadata": {},
   "outputs": [
    {
     "data": {
      "text/plain": [
       "array([[0.00673795, 0.03368973, 0.95957232],\n",
       "       [0.00673795, 0.03368973, 0.95957232],\n",
       "       [0.        , 0.00673795, 0.99326205]])"
      ]
     },
     "execution_count": 48,
     "metadata": {},
     "output_type": "execute_result"
    }
   ],
   "source": [
    "embedded_chain = anal.embedded_chain(N, lamda, mu)\n",
    "embedded_chain"
   ]
  },
  {
   "cell_type": "code",
   "execution_count": 49,
   "metadata": {},
   "outputs": [
    {
     "data": {
      "text/plain": [
       "array([[0.    , 0.0069, 0.993 ],\n",
       "       [0.    , 0.0069, 0.993 ],\n",
       "       [0.    , 0.0069, 0.993 ]])"
      ]
     },
     "execution_count": 49,
     "metadata": {},
     "output_type": "execute_result"
    }
   ],
   "source": [
    "stationary_distribution = matrix_power(embedded_chain, 1000)\n",
    "stationary_distribution.round(4)"
   ]
  },
  {
   "cell_type": "code",
   "execution_count": null,
   "metadata": {},
   "outputs": [],
   "source": []
  },
  {
   "cell_type": "code",
   "execution_count": null,
   "metadata": {},
   "outputs": [],
   "source": []
  }
 ],
 "metadata": {
  "interpreter": {
   "hash": "2db524e06e9f5f4ffedc911c917cb75e12dbc923643829bf417064a77eb14d37"
  },
  "kernelspec": {
   "display_name": "Python 3.8.3 64-bit (system)",
   "language": "python",
   "name": "python3"
  },
  "language_info": {
   "codemirror_mode": {
    "name": "ipython",
    "version": 3
   },
   "file_extension": ".py",
   "mimetype": "text/x-python",
   "name": "python",
   "nbconvert_exporter": "python",
   "pygments_lexer": "ipython3",
   "version": "3.8.3"
  },
  "orig_nbformat": 4
 },
 "nbformat": 4,
 "nbformat_minor": 2
}
