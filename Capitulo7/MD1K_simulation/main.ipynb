{
 "cells": [
  {
   "cell_type": "code",
   "execution_count": 2,
   "metadata": {},
   "outputs": [],
   "source": [
    "%load_ext autoreload\n",
    "\n",
    "%autoreload 2\n"
   ]
  },
  {
   "cell_type": "code",
   "execution_count": 2,
   "metadata": {},
   "outputs": [],
   "source": [
    "import md1k\n",
    "import analytical as anal\n",
    "import pandas as pd\n",
    "import numpy as np\n",
    "pd.set_option('display.max_rows', 999)"
   ]
  },
  {
   "cell_type": "code",
   "execution_count": 27,
   "metadata": {},
   "outputs": [],
   "source": [
    "sim = md1k.md1k_queue(1,1,3, max_time = 1000, max_events= 1000)"
   ]
  },
  {
   "cell_type": "code",
   "execution_count": 28,
   "metadata": {},
   "outputs": [],
   "source": [
    "def metrics(sim_data, N, lamda, mu):\n",
    "    simulated = {\n",
    "        'customers' : md1k.customers_mean(sim_data, lamda = lamda, mu = mu),\n",
    "        'wait_time' : md1k.mean_wait(sim_data, lamda = lamda, mu = mu)\n",
    "    }\n",
    "    analytical = {\n",
    "        'customers' : anal.mean_customers(N, lamda, mu),\n",
    "        'wait_time' : anal.mean_wait(N, lamda, mu)\n",
    "    }\n",
    "    print(f\"\"\"\n",
    "Fila M/D/1/{N} \n",
    "    lambda = {lamda}\n",
    "    D = {1/mu}\n",
    "    Média de Consumidores\n",
    "        Resultado simulado:\n",
    "            Média: {simulated['customers']['mean']}\n",
    "            Intervalo de Confiança: {simulated['customers']['ci']}\n",
    "        Resultado Analítico: {analytical['customers']}\n",
    "    Tempo Médio\n",
    "        Resultado simulado:\n",
    "            Média : {simulated['wait_time']['mean']}\n",
    "            Intervalo de Confiança: {simulated['wait_time']['ci']}\n",
    "        Resultado Analítico: {analytical['wait_time']}\n",
    "\"\"\")"
   ]
  },
  {
   "cell_type": "code",
   "execution_count": 29,
   "metadata": {},
   "outputs": [
    {
     "name": "stdout",
     "output_type": "stream",
     "text": [
      "\n",
      "Fila M/D/1/3 \n",
      "    lambda = 3\n",
      "    D = 1.0\n",
      "    Média de Consumidores\n",
      "        Resultado simulado:\n",
      "            Média: 2.642872494615504\n",
      "            Intervalo de Confiança: (2.6234872052637237, 2.6622577839672847)\n",
      "        Resultado Analítico: 2.998782568333744\n",
      "    Tempo Médio\n",
      "        Resultado simulado:\n",
      "            Média : 2.6303667592706086\n",
      "            Intervalo de Confiança: (2.6119520126002795, 2.6487815059409376)\n",
      "        Resultado Analítico: 1.9824329808439274\n",
      "\n"
     ]
    }
   ],
   "source": [
    "lamda = 3\n",
    "mu = 1\n",
    "N = 3\n",
    "sim = md1k.md1k_simulation(lamda,mu, N)\n",
    "metrics(sim, N, lamda, mu)\n"
   ]
  },
  {
   "cell_type": "code",
   "execution_count": 30,
   "metadata": {},
   "outputs": [
    {
     "name": "stdout",
     "output_type": "stream",
     "text": [
      "\n",
      "Fila M/D/1/3 \n",
      "    lambda = 3\n",
      "    D = 0.1\n",
      "    Média de Consumidores\n",
      "        Resultado simulado:\n",
      "            Média: 0.3543400122312656\n",
      "            Intervalo de Confiança: (0.339745169501994, 0.3689348549605372)\n",
      "        Resultado Analítico: 1.3545819269799513\n",
      "    Tempo Médio\n",
      "        Resultado simulado:\n",
      "            Média : 0.11948824197834743\n",
      "            Intervalo de Confiança: (0.11819602923272797, 0.12078045472396688)\n",
      "        Resultado Analítico: 0.3529210207086406\n",
      "\n"
     ]
    }
   ],
   "source": [
    "lamda = 3\n",
    "mu = 10\n",
    "sim = md1k.md1k_simulation(lamda,mu,3)\n",
    "metrics(sim, N = N, lamda = lamda, mu = mu)"
   ]
  }
 ],
 "metadata": {
  "interpreter": {
   "hash": "2db524e06e9f5f4ffedc911c917cb75e12dbc923643829bf417064a77eb14d37"
  },
  "kernelspec": {
   "display_name": "Python 3.8.3 64-bit (system)",
   "language": "python",
   "name": "python3"
  },
  "language_info": {
   "codemirror_mode": {
    "name": "ipython",
    "version": 3
   },
   "file_extension": ".py",
   "mimetype": "text/x-python",
   "name": "python",
   "nbconvert_exporter": "python",
   "pygments_lexer": "ipython3",
   "version": "3.8.3"
  },
  "orig_nbformat": 4
 },
 "nbformat": 4,
 "nbformat_minor": 2
}
